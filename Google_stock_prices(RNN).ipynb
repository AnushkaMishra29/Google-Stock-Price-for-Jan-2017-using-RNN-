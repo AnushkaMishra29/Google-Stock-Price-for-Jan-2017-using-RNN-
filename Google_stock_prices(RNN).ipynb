{
  "nbformat": 4,
  "nbformat_minor": 0,
  "metadata": {
    "colab": {
      "name": "Google stock prices(RNN).ipynb",
      "provenance": [],
      "authorship_tag": "ABX9TyOUYLRsHKVTi9eAqQos64iu",
      "include_colab_link": true
    },
    "kernelspec": {
      "name": "python3",
      "display_name": "Python 3"
    },
    "accelerator": "GPU"
  },
  "cells": [
    {
      "cell_type": "markdown",
      "metadata": {
        "id": "view-in-github",
        "colab_type": "text"
      },
      "source": [
        "<a href=\"https://colab.research.google.com/github/AnushkaMishra29/Google-Stock-Price-for-Jan-2017-using-RNN-/blob/master/Google_stock_prices(RNN).ipynb\" target=\"_parent\"><img src=\"https://colab.research.google.com/assets/colab-badge.svg\" alt=\"Open In Colab\"/></a>"
      ]
    },
    {
      "cell_type": "code",
      "metadata": {
        "id": "M2q1D253tH_1",
        "colab_type": "code",
        "colab": {
          "base_uri": "https://localhost:8080/",
          "height": 124
        },
        "outputId": "750045dd-a527-44cc-af24-656e0ddefb11"
      },
      "source": [
        "from google.colab import drive\n",
        "drive.mount('/content/drive')"
      ],
      "execution_count": 6,
      "outputs": [
        {
          "output_type": "stream",
          "text": [
            "Go to this URL in a browser: https://accounts.google.com/o/oauth2/auth?client_id=947318989803-6bn6qk8qdgf4n4g3pfee6491hc0brc4i.apps.googleusercontent.com&redirect_uri=urn%3aietf%3awg%3aoauth%3a2.0%3aoob&response_type=code&scope=email%20https%3a%2f%2fwww.googleapis.com%2fauth%2fdocs.test%20https%3a%2f%2fwww.googleapis.com%2fauth%2fdrive%20https%3a%2f%2fwww.googleapis.com%2fauth%2fdrive.photos.readonly%20https%3a%2f%2fwww.googleapis.com%2fauth%2fpeopleapi.readonly\n",
            "\n",
            "Enter your authorization code:\n",
            "··········\n",
            "Mounted at /content/drive\n"
          ],
          "name": "stdout"
        }
      ]
    },
    {
      "cell_type": "code",
      "metadata": {
        "id": "hwOplXBqtQEp",
        "colab_type": "code",
        "colab": {
          "base_uri": "https://localhost:8080/",
          "height": 35
        },
        "outputId": "a5e9df1e-d918-4639-baeb-febb14e58988"
      },
      "source": [
        "cd drive"
      ],
      "execution_count": 7,
      "outputs": [
        {
          "output_type": "stream",
          "text": [
            "/content/drive\n"
          ],
          "name": "stdout"
        }
      ]
    },
    {
      "cell_type": "code",
      "metadata": {
        "id": "UPWwOmfrtlqu",
        "colab_type": "code",
        "colab": {
          "base_uri": "https://localhost:8080/",
          "height": 35
        },
        "outputId": "518fd9f2-e86b-446d-c52a-7a07889c0edd"
      },
      "source": [
        "cd My Drive"
      ],
      "execution_count": 8,
      "outputs": [
        {
          "output_type": "stream",
          "text": [
            "/content/drive/My Drive\n"
          ],
          "name": "stdout"
        }
      ]
    },
    {
      "cell_type": "code",
      "metadata": {
        "id": "0PIJcXPgtnsY",
        "colab_type": "code",
        "colab": {}
      },
      "source": [
        "import numpy as np\n",
        "import matplotlib.pyplot as plt\n",
        "import pandas as pd"
      ],
      "execution_count": 9,
      "outputs": []
    },
    {
      "cell_type": "code",
      "metadata": {
        "id": "ZjPB3xW1t94f",
        "colab_type": "code",
        "colab": {}
      },
      "source": [
        "dataset_train=pd.read_csv('Google_Stock_Price_Train.csv')\n",
        "training_set=dataset_train.iloc[:,1:2].values"
      ],
      "execution_count": 10,
      "outputs": []
    },
    {
      "cell_type": "code",
      "metadata": {
        "id": "9FqEHaIpvNsq",
        "colab_type": "code",
        "colab": {
          "base_uri": "https://localhost:8080/",
          "height": 381
        },
        "outputId": "a4d1cab2-4736-42ce-8c37-4e5f135e224f"
      },
      "source": [
        "print(dataset_train)\n",
        "print(training_set)"
      ],
      "execution_count": 11,
      "outputs": [
        {
          "output_type": "stream",
          "text": [
            "            Date    Open    High     Low   Close      Volume\n",
            "0       1/3/2012  325.25  332.83  324.97  663.59   7,380,500\n",
            "1       1/4/2012  331.27  333.87  329.08  666.45   5,749,400\n",
            "2       1/5/2012  329.83  330.75  326.89  657.21   6,590,300\n",
            "3       1/6/2012  328.34  328.77  323.68  648.24   5,405,900\n",
            "4       1/9/2012  322.04  322.29  309.46  620.76  11,688,800\n",
            "...          ...     ...     ...     ...     ...         ...\n",
            "1253  12/23/2016  790.90  792.74  787.28  789.91     623,400\n",
            "1254  12/27/2016  790.68  797.86  787.66  791.55     789,100\n",
            "1255  12/28/2016  793.70  794.23  783.20  785.05   1,153,800\n",
            "1256  12/29/2016  783.33  785.93  778.92  782.79     744,300\n",
            "1257  12/30/2016  782.75  782.78  770.41  771.82   1,770,000\n",
            "\n",
            "[1258 rows x 6 columns]\n",
            "[[325.25]\n",
            " [331.27]\n",
            " [329.83]\n",
            " ...\n",
            " [793.7 ]\n",
            " [783.33]\n",
            " [782.75]]\n"
          ],
          "name": "stdout"
        }
      ]
    },
    {
      "cell_type": "code",
      "metadata": {
        "id": "wBqh1tTBvhGA",
        "colab_type": "code",
        "colab": {}
      },
      "source": [
        "from sklearn.preprocessing import MinMaxScaler\n",
        "sc=MinMaxScaler(feature_range=(0,1))\n",
        "training_set_scale=sc.fit_transform(training_set)"
      ],
      "execution_count": 12,
      "outputs": []
    },
    {
      "cell_type": "code",
      "metadata": {
        "id": "PXSapcWAxZyD",
        "colab_type": "code",
        "colab": {
          "base_uri": "https://localhost:8080/",
          "height": 139
        },
        "outputId": "48e05540-36f9-4f01-f006-d363e9a31169"
      },
      "source": [
        "print (training_set_scale)"
      ],
      "execution_count": 13,
      "outputs": [
        {
          "output_type": "stream",
          "text": [
            "[[0.08581368]\n",
            " [0.09701243]\n",
            " [0.09433366]\n",
            " ...\n",
            " [0.95725128]\n",
            " [0.93796041]\n",
            " [0.93688146]]\n"
          ],
          "name": "stdout"
        }
      ]
    },
    {
      "cell_type": "markdown",
      "metadata": {
        "id": "cFKfuYQh4naZ",
        "colab_type": "text"
      },
      "source": [
        "Creating a datastructure with 60 time steps and 1 output.\n",
        "*#by doing this we will look at the previous output of 60 days before predicting*"
      ]
    },
    {
      "cell_type": "code",
      "metadata": {
        "id": "Q6Xa_7hGxiQl",
        "colab_type": "code",
        "colab": {}
      },
      "source": [
        "X_train=[]\n",
        "y_train=[]\n",
        "for i in range(60,1257):\n",
        "  X_train.append(training_set_scale[i-60:i,0])\n",
        "  y_train.append(training_set_scale[i,0])\n",
        "X_train, y_train = np.array(X_train), np.array(y_train)       #creating into numpy array"
      ],
      "execution_count": 14,
      "outputs": []
    },
    {
      "cell_type": "code",
      "metadata": {
        "id": "m-w9WCjZ73mm",
        "colab_type": "code",
        "colab": {}
      },
      "source": [
        "X_train= np.reshape(X_train, (X_train.shape[0], X_train.shape[1], 1))     #X_train.shape[0] is no of stock prices i.e 0 to end,X_train.shape[1] is no f time steps i.e is 60 at a time and 1 for the no of indicators."
      ],
      "execution_count": 15,
      "outputs": []
    },
    {
      "cell_type": "code",
      "metadata": {
        "id": "PVyKRUX9E-Q3",
        "colab_type": "code",
        "colab": {
          "base_uri": "https://localhost:8080/",
          "height": 35
        },
        "outputId": "a625836b-3362-48d5-fc24-2c986619a5fe"
      },
      "source": [
        "from keras.models import Sequential\n",
        "from keras.layers import Dense\n",
        "from keras.layers import LSTM\n",
        "from keras.layers import Dropout"
      ],
      "execution_count": 16,
      "outputs": [
        {
          "output_type": "stream",
          "text": [
            "Using TensorFlow backend.\n"
          ],
          "name": "stderr"
        }
      ]
    },
    {
      "cell_type": "code",
      "metadata": {
        "id": "4Y327sSuH2F3",
        "colab_type": "code",
        "colab": {}
      },
      "source": [
        "regressor= Sequential()"
      ],
      "execution_count": 17,
      "outputs": []
    },
    {
      "cell_type": "code",
      "metadata": {
        "id": "rxBVFyI0JG_O",
        "colab_type": "code",
        "colab": {}
      },
      "source": [
        "regressor.add(LSTM(units=50,return_sequences=True,input_shape=(X_train.shape[1], 1)))     #units= neurons that we want to have in this layer, we use return_sequences as true as we will add another layer of LSTM after this layer, input shape is used to add the input that we made in x_train\n",
        "regressor.add(Dropout(0.2))"
      ],
      "execution_count": 18,
      "outputs": []
    },
    {
      "cell_type": "code",
      "metadata": {
        "id": "Zf13XkEnKrKa",
        "colab_type": "code",
        "colab": {}
      },
      "source": [
        "regressor.add(LSTM(units = 50, return_sequences = True))\n",
        "regressor.add(Dropout(0.2))\n",
        "regressor.add(LSTM(units = 50, return_sequences = True))\n",
        "regressor.add(Dropout(0.2))\n",
        "regressor.add(LSTM(units = 50))\n",
        "regressor.add(Dropout(0.2))"
      ],
      "execution_count": 19,
      "outputs": []
    },
    {
      "cell_type": "code",
      "metadata": {
        "id": "M3Qa4OAPMz1R",
        "colab_type": "code",
        "colab": {}
      },
      "source": [
        "regressor.add(Dense(units = 1)) #connecting input layers to output layer"
      ],
      "execution_count": 20,
      "outputs": []
    },
    {
      "cell_type": "code",
      "metadata": {
        "id": "Twad4AtrNCEI",
        "colab_type": "code",
        "colab": {}
      },
      "source": [
        "regressor.compile(optimizer = 'adam', loss = 'mean_squared_error')"
      ],
      "execution_count": 21,
      "outputs": []
    },
    {
      "cell_type": "code",
      "metadata": {
        "id": "_Cl0xbUhNFwe",
        "colab_type": "code",
        "colab": {
          "base_uri": "https://localhost:8080/",
          "height": 1000
        },
        "outputId": "a16be241-1fc9-4b59-c8b5-cd6b584a5d8c"
      },
      "source": [
        "regressor.fit(X_train, y_train, epochs = 50, batch_size = 32)"
      ],
      "execution_count": 23,
      "outputs": [
        {
          "output_type": "stream",
          "text": [
            "Epoch 1/50\n",
            "1197/1197 [==============================] - 22s 18ms/step - loss: 0.0031\n",
            "Epoch 2/50\n",
            "1197/1197 [==============================] - 21s 18ms/step - loss: 0.0034\n",
            "Epoch 3/50\n",
            "1197/1197 [==============================] - 22s 18ms/step - loss: 0.0036\n",
            "Epoch 4/50\n",
            "1197/1197 [==============================] - 21s 18ms/step - loss: 0.0034\n",
            "Epoch 5/50\n",
            "1197/1197 [==============================] - 22s 18ms/step - loss: 0.0030\n",
            "Epoch 6/50\n",
            "1197/1197 [==============================] - 22s 18ms/step - loss: 0.0033\n",
            "Epoch 7/50\n",
            "1197/1197 [==============================] - 21s 18ms/step - loss: 0.0031\n",
            "Epoch 8/50\n",
            "1197/1197 [==============================] - 22s 18ms/step - loss: 0.0029\n",
            "Epoch 9/50\n",
            "1197/1197 [==============================] - 21s 18ms/step - loss: 0.0033\n",
            "Epoch 10/50\n",
            "1197/1197 [==============================] - 21s 18ms/step - loss: 0.0030\n",
            "Epoch 11/50\n",
            "1197/1197 [==============================] - 21s 18ms/step - loss: 0.0028\n",
            "Epoch 12/50\n",
            "1197/1197 [==============================] - 22s 18ms/step - loss: 0.0027\n",
            "Epoch 13/50\n",
            "1197/1197 [==============================] - 22s 18ms/step - loss: 0.0027\n",
            "Epoch 14/50\n",
            "1197/1197 [==============================] - 22s 18ms/step - loss: 0.0026\n",
            "Epoch 15/50\n",
            "1197/1197 [==============================] - 22s 18ms/step - loss: 0.0030\n",
            "Epoch 16/50\n",
            "1197/1197 [==============================] - 22s 18ms/step - loss: 0.0028\n",
            "Epoch 17/50\n",
            "1197/1197 [==============================] - 22s 18ms/step - loss: 0.0028\n",
            "Epoch 18/50\n",
            "1197/1197 [==============================] - 21s 18ms/step - loss: 0.0029\n",
            "Epoch 19/50\n",
            "1197/1197 [==============================] - 21s 18ms/step - loss: 0.0026\n",
            "Epoch 20/50\n",
            "1197/1197 [==============================] - 22s 18ms/step - loss: 0.0028\n",
            "Epoch 21/50\n",
            "1197/1197 [==============================] - 22s 18ms/step - loss: 0.0030\n",
            "Epoch 22/50\n",
            "1197/1197 [==============================] - 22s 18ms/step - loss: 0.0025\n",
            "Epoch 23/50\n",
            "1197/1197 [==============================] - 22s 18ms/step - loss: 0.0024\n",
            "Epoch 24/50\n",
            "1197/1197 [==============================] - 22s 18ms/step - loss: 0.0026\n",
            "Epoch 25/50\n",
            "1197/1197 [==============================] - 21s 18ms/step - loss: 0.0027\n",
            "Epoch 26/50\n",
            "1197/1197 [==============================] - 21s 18ms/step - loss: 0.0029\n",
            "Epoch 27/50\n",
            "1197/1197 [==============================] - 22s 18ms/step - loss: 0.0027\n",
            "Epoch 28/50\n",
            "1197/1197 [==============================] - 21s 18ms/step - loss: 0.0024\n",
            "Epoch 29/50\n",
            "1197/1197 [==============================] - 21s 18ms/step - loss: 0.0024\n",
            "Epoch 30/50\n",
            "1197/1197 [==============================] - 21s 18ms/step - loss: 0.0024\n",
            "Epoch 31/50\n",
            "1197/1197 [==============================] - 21s 18ms/step - loss: 0.0022\n",
            "Epoch 32/50\n",
            "1197/1197 [==============================] - 22s 18ms/step - loss: 0.0023\n",
            "Epoch 33/50\n",
            "1197/1197 [==============================] - 22s 18ms/step - loss: 0.0022\n",
            "Epoch 34/50\n",
            "1197/1197 [==============================] - 22s 18ms/step - loss: 0.0023\n",
            "Epoch 35/50\n",
            "1197/1197 [==============================] - 21s 18ms/step - loss: 0.0022\n",
            "Epoch 36/50\n",
            "1197/1197 [==============================] - 21s 18ms/step - loss: 0.0022\n",
            "Epoch 37/50\n",
            "1197/1197 [==============================] - 21s 18ms/step - loss: 0.0022\n",
            "Epoch 38/50\n",
            "1197/1197 [==============================] - 21s 18ms/step - loss: 0.0021\n",
            "Epoch 39/50\n",
            "1197/1197 [==============================] - 21s 18ms/step - loss: 0.0022\n",
            "Epoch 40/50\n",
            "1197/1197 [==============================] - 21s 18ms/step - loss: 0.0022\n",
            "Epoch 41/50\n",
            "1197/1197 [==============================] - 22s 18ms/step - loss: 0.0019\n",
            "Epoch 42/50\n",
            "1197/1197 [==============================] - 21s 18ms/step - loss: 0.0021\n",
            "Epoch 43/50\n",
            "1197/1197 [==============================] - 21s 18ms/step - loss: 0.0018\n",
            "Epoch 44/50\n",
            "1197/1197 [==============================] - 21s 18ms/step - loss: 0.0018\n",
            "Epoch 45/50\n",
            "1197/1197 [==============================] - 21s 18ms/step - loss: 0.0020\n",
            "Epoch 46/50\n",
            "1197/1197 [==============================] - 22s 18ms/step - loss: 0.0020\n",
            "Epoch 47/50\n",
            "1197/1197 [==============================] - 21s 18ms/step - loss: 0.0021\n",
            "Epoch 48/50\n",
            "1197/1197 [==============================] - 21s 18ms/step - loss: 0.0020\n",
            "Epoch 49/50\n",
            "1197/1197 [==============================] - 21s 18ms/step - loss: 0.0018\n",
            "Epoch 50/50\n",
            "1197/1197 [==============================] - 21s 18ms/step - loss: 0.0019\n"
          ],
          "name": "stdout"
        },
        {
          "output_type": "execute_result",
          "data": {
            "text/plain": [
              "<keras.callbacks.callbacks.History at 0x7fc67c43cc18>"
            ]
          },
          "metadata": {
            "tags": []
          },
          "execution_count": 23
        }
      ]
    },
    {
      "cell_type": "code",
      "metadata": {
        "id": "ntk00DnHNM1y",
        "colab_type": "code",
        "colab": {}
      },
      "source": [
        "dataset_test=pd.read_csv('/content/drive/My Drive/Google_Stock_Price_Test.csv')\n",
        "real_stock_price = dataset_test.iloc[:, 1:2].values"
      ],
      "execution_count": 24,
      "outputs": []
    },
    {
      "cell_type": "code",
      "metadata": {
        "id": "JejP6PqYY2dc",
        "colab_type": "code",
        "colab": {}
      },
      "source": [
        "dataset_total = pd.concat((dataset_train['Open'], dataset_test['Open']), axis = 0) #concatenating test set and training set to get the predictions of \n",
        "the month jan 2017 using the previous 60 days."
      ],
      "execution_count": 25,
      "outputs": []
    },
    {
      "cell_type": "code",
      "metadata": {
        "id": "WrQrDrjagqFt",
        "colab_type": "code",
        "colab": {
          "base_uri": "https://localhost:8080/",
          "height": 225
        },
        "outputId": "b6e428d4-b9eb-4e86-fda5-0891ca89fd30"
      },
      "source": [
        "print(dataset_total)"
      ],
      "execution_count": 26,
      "outputs": [
        {
          "output_type": "stream",
          "text": [
            "0     325.25\n",
            "1     331.27\n",
            "2     329.83\n",
            "3     328.34\n",
            "4     322.04\n",
            "       ...  \n",
            "15    829.62\n",
            "16    837.81\n",
            "17    834.71\n",
            "18    814.66\n",
            "19    796.86\n",
            "Name: Open, Length: 1278, dtype: float64\n"
          ],
          "name": "stdout"
        }
      ]
    },
    {
      "cell_type": "code",
      "metadata": {
        "id": "YO99pK_mgm6V",
        "colab_type": "code",
        "colab": {}
      },
      "source": [
        "inputs = dataset_total[len(dataset_total) - len(dataset_test) - 60:].values  # for getting the first financial day of jan 2017 i.e total dataset which s upto end of jan 2017 and subtracting from it test set will give the first financial day of 2017\n",
        "inputs = inputs.reshape(-1,1)\n",
        "inputs = sc.transform(inputs)\n",
        "X_test = []\n",
        "for i in range(60, 80):     #one month has 20 financial days\n",
        "    X_test.append(inputs[i-60:i, 0])\n",
        "X_test = np.array(X_test)\n",
        "X_test = np.reshape(X_test, (X_test.shape[0], X_test.shape[1], 1))\n",
        "predicted_stock_price = regressor.predict(X_test)\n",
        "predicted_stock_price = sc.inverse_transform(predicted_stock_price)"
      ],
      "execution_count": 27,
      "outputs": []
    },
    {
      "cell_type": "code",
      "metadata": {
        "id": "tZqzRHNVkX2b",
        "colab_type": "code",
        "colab": {
          "base_uri": "https://localhost:8080/",
          "height": 295
        },
        "outputId": "127697ed-f545-4a20-ccd3-f76b924a782d"
      },
      "source": [
        "plt.plot(real_stock_price, color = 'red', label = 'Real Google Stock Price')   #creating the plot\n",
        "plt.plot(predicted_stock_price, color = 'blue', label = 'Predicted Google Stock Price')\n",
        "plt.title('Google Stock Price Prediction')\n",
        "plt.xlabel('Time')\n",
        "plt.ylabel('Google Stock Price')\n",
        "plt.legend()\n",
        "plt.show()"
      ],
      "execution_count": 28,
      "outputs": [
        {
          "output_type": "display_data",
          "data": {
            "image/png": "[encoded data removed]",
            "text/plain": [
              "<Figure size 432x288 with 1 Axes>"
            ]
          },
          "metadata": {
            "tags": [],
            "needs_background": "light"
          }
        }
      ]
    },
    {
      "cell_type": "code",
      "metadata": {
        "id": "IwOy5hGukdYG",
        "colab_type": "code",
        "colab": {}
      },
      "source": [
        ""
      ],
      "execution_count": null,
      "outputs": []
    }
  ]
}